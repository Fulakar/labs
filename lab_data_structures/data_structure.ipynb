{
 "cells": [
  {
   "cell_type": "code",
   "execution_count": 1,
   "metadata": {},
   "outputs": [],
   "source": [
    "import sys"
   ]
  },
  {
   "cell_type": "code",
   "execution_count": 2,
   "metadata": {},
   "outputs": [],
   "source": [
    "class Unit_stack:\n",
    "    def __init__(self):\n",
    "        self.data = None\n",
    "        self.next = None\n",
    "    def __getsize__(self):\n",
    "        size = sys.getsizeof(self)\n",
    "        size += sys.getsizeof(self.data)\n",
    "        return size\n",
    "\n",
    "class Stack:\n",
    "    def __init__(self):\n",
    "        self.first = None\n",
    "        self.size = 0\n",
    "    def add(self, data):\n",
    "        self.size += 1\n",
    "        new_unit = Unit_stack()\n",
    "        new_unit.data = data\n",
    "        new_unit.next = self.first\n",
    "        self.first = new_unit\n",
    "    def delete(self):\n",
    "        self.first = self.first.next\n",
    "        self.size -= 1\n",
    "    def get_size(self):\n",
    "        return self.size\n",
    "    def print_units(self):\n",
    "        size = self.size\n",
    "        p_unit = self.first\n",
    "        while p_unit != None: \n",
    "            print(p_unit.data, end=' ')\n",
    "            size -= 1\n",
    "            p_unit = p_unit.next\n",
    "    def __getsize__(self):\n",
    "        size = sys.getsizeof(self)\n",
    "        size += sys.getsizeof(self.size)\n",
    "        unit = self.first\n",
    "        while unit != None:\n",
    "            size += unit.__getsize__()\n",
    "            unit = unit.next\n",
    "        return size"
   ]
  },
  {
   "cell_type": "code",
   "execution_count": 3,
   "metadata": {},
   "outputs": [],
   "source": [
    "class Unit_queue:\n",
    "    def __init__(self):\n",
    "        self.data = None\n",
    "        self.id = None\n",
    "        self.next = None\n",
    "\n",
    "\n",
    "class Queue:\n",
    "    def __init__(self):\n",
    "        self.first = None\n",
    "        self.last = None\n",
    "        self.size = 0\n",
    "    def add(self, data):\n",
    "        self.size += 1\n",
    "        new_unit = Unit_queue()\n",
    "        new_unit.data = data\n",
    "        new_unit.id = self.size\n",
    "        if new_unit.id > 2:\n",
    "            self.last.next = new_unit\n",
    "            self.last = new_unit\n",
    "        elif new_unit.id == 2:\n",
    "            self.first.next = new_unit\n",
    "            self.last = new_unit\n",
    "        elif new_unit.id == 1:\n",
    "            self.first = new_unit\n",
    "    def delete(self):\n",
    "        self.first = self.first.next\n",
    "        self.size -= 1\n",
    "    def get_size(self):\n",
    "        return self.size\n",
    "    def print_units(self):\n",
    "        size = self.size\n",
    "        p_unit = self.first\n",
    "        while p_unit != None: \n",
    "            print(p_unit.data, end=' ')\n",
    "            size -= 1\n",
    "            p_unit = p_unit.next\n",
    "    def print_first(self):\n",
    "        print(self.first.data)\n",
    "    def print_last(self):\n",
    "        print(self.last.data)\n",
    "    def get_first(self):\n",
    "        return self.first.data\n",
    "    def get_last(self):\n",
    "        return self.last.data    "
   ]
  },
  {
   "cell_type": "code",
   "execution_count": 4,
   "metadata": {},
   "outputs": [],
   "source": [
    "class Unit_array:\n",
    "    def __init__(self):\n",
    "        self.data = None\n",
    "        self.id = None\n",
    "        self.prev = None\n",
    "        self.next = None\n",
    "\n",
    "\n",
    "class Array:\n",
    "    def __init__(self):\n",
    "        self.first = None\n",
    "        self.last = None\n",
    "        self.size = 0\n",
    "    def __getitem__(self, id):\n",
    "        unit = self.first\n",
    "        while unit.id != id:\n",
    "            unit = unit.next \n",
    "        print(unit.data)   \n",
    "    def add(self, data):\n",
    "        self.size += 1\n",
    "        new_unit = Unit_array()\n",
    "        new_unit.data = data\n",
    "        new_unit.id = self.size\n",
    "        if new_unit.id > 2:\n",
    "            self.last.next = new_unit\n",
    "            new_unit.prev = self.last\n",
    "            self.last = new_unit\n",
    "        elif new_unit.id == 2:\n",
    "            self.last = new_unit\n",
    "            self.first.next = new_unit\n",
    "            self.last.prev = self.first\n",
    "        elif new_unit.id == 1:\n",
    "            self.first = new_unit\n",
    "    def replace_index(self, id, data):\n",
    "        unit = self.first\n",
    "        while unit.id != id:\n",
    "            unit = unit.next\n",
    "        unit.data = data\n",
    "    def add_index(self, id, data):\n",
    "        unit = self.first\n",
    "        while unit.id != id:\n",
    "            unit = unit.next\n",
    "        unit.data += data\n",
    "    def pop(self):\n",
    "        self.last = self.last.prev\n",
    "        self.size -= 1\n",
    "        self.last.next = None\n",
    "    def get_size(self):\n",
    "        return self.size\n",
    "    def print_units(self):\n",
    "        size = self.size\n",
    "        p_unit = self.first\n",
    "        while p_unit != None: \n",
    "            print(p_unit.data, end=' ')\n",
    "            size -= 1\n",
    "            p_unit = p_unit.next\n",
    "    def print_first(self):\n",
    "        print(self.first.data)\n",
    "    def print_last(self):\n",
    "        print(self.last.data)\n",
    "    def get_first(self):\n",
    "        return self.first.data\n",
    "    def get_last(self):\n",
    "        return self.last.data    "
   ]
  },
  {
   "cell_type": "markdown",
   "metadata": {},
   "source": [
    "Стэк"
   ]
  },
  {
   "cell_type": "code",
   "execution_count": 5,
   "metadata": {},
   "outputs": [
    {
     "name": "stdout",
     "output_type": "stream",
     "text": [
      "10\n",
      "19 17 15 13 11 9 7 5 3 1 "
     ]
    }
   ],
   "source": [
    "stack = Stack()\n",
    "for i in range(1, 20, 2):\n",
    "    stack.add(i)\n",
    "print(stack.get_size())\n",
    "stack.print_units()"
   ]
  },
  {
   "cell_type": "code",
   "execution_count": 6,
   "metadata": {},
   "outputs": [
    {
     "name": "stdout",
     "output_type": "stream",
     "text": [
      "9\n",
      "17 15 13 11 9 7 5 3 1 "
     ]
    }
   ],
   "source": [
    "stack.delete()\n",
    "print(stack.get_size())\n",
    "stack.print_units()"
   ]
  },
  {
   "cell_type": "code",
   "execution_count": 7,
   "metadata": {},
   "outputs": [
    {
     "name": "stdout",
     "output_type": "stream",
     "text": [
      "10\n",
      "5 17 15 13 11 9 7 5 3 1 "
     ]
    }
   ],
   "source": [
    "stack.add(5)\n",
    "print(stack.get_size())\n",
    "stack.print_units()"
   ]
  },
  {
   "cell_type": "code",
   "execution_count": 25,
   "metadata": {},
   "outputs": [
    {
     "name": "stdout",
     "output_type": "stream",
     "text": [
      "Размер пустого стэка:84\n",
      "Размер стэка с добавленным значением 10000:168\n",
      "Размер стэка с добавленным значением 20000:252\n",
      "Размер стэка с добавленным значением 30000:336\n",
      "Размер стэка с добавленным значением 40000:420\n",
      "Размер стэка с добавленным значением 50000:504\n",
      "Размер стэка с добавленным значением 60000:588\n",
      "Размер стэка с добавленным значением 70000:672\n",
      "Размер стэка с добавленным значением 80000:756\n",
      "Размер стэка с добавленным значением 90000:840\n",
      "Размер стэка с добавленным значением 100000:924\n",
      "Размер стэка с значением 10 и массивом из 100000 эллементов:801964\n"
     ]
    }
   ],
   "source": [
    "stack = Stack()\n",
    "print(f'Размер пустого стэка:{stack.__getsize__()}')\n",
    "for i in range(10000, 100001, 10000):\n",
    "    stack.add(i)\n",
    "    print(f'Размер стэка с добавленным значением {i}:{stack.__getsize__()}')\n",
    "stack.add([i for i in range(100000)])\n",
    "print(f'Размер стэка с значением 10 и массивом из 100000 эллементов:{stack.__getsize__()}')"
   ]
  },
  {
   "cell_type": "code",
   "execution_count": 26,
   "metadata": {},
   "outputs": [],
   "source": [
    "stack = Stack()\n",
    "for i in range(1, 10000000):\n",
    "    stack.add(i)"
   ]
  },
  {
   "cell_type": "code",
   "execution_count": 27,
   "metadata": {},
   "outputs": [],
   "source": [
    "for i in range(1, 10000000):\n",
    "    stack.delete()"
   ]
  },
  {
   "cell_type": "markdown",
   "metadata": {},
   "source": [
    "Очередь"
   ]
  },
  {
   "cell_type": "code",
   "execution_count": 28,
   "metadata": {},
   "outputs": [
    {
     "name": "stdout",
     "output_type": "stream",
     "text": [
      "10\n",
      "1 3 5 7 9 11 13 15 17 19 "
     ]
    }
   ],
   "source": [
    "queue = Queue()\n",
    "for i in range(1, 20, 2):\n",
    "    queue.add(i)\n",
    "print(queue.get_size())\n",
    "queue.print_units()"
   ]
  },
  {
   "cell_type": "code",
   "execution_count": 14,
   "metadata": {},
   "outputs": [
    {
     "name": "stdout",
     "output_type": "stream",
     "text": [
      "9\n",
      "3 5 7 9 11 13 15 17 19 "
     ]
    }
   ],
   "source": [
    "queue.delete()\n",
    "print(queue.get_size())\n",
    "queue.print_units()"
   ]
  },
  {
   "cell_type": "code",
   "execution_count": 15,
   "metadata": {},
   "outputs": [
    {
     "name": "stdout",
     "output_type": "stream",
     "text": [
      "10\n",
      "3 5 7 9 11 13 15 17 19 5 "
     ]
    }
   ],
   "source": [
    "queue.add(5)\n",
    "print(queue.get_size())\n",
    "queue.print_units()"
   ]
  },
  {
   "cell_type": "code",
   "execution_count": 16,
   "metadata": {},
   "outputs": [
    {
     "name": "stdout",
     "output_type": "stream",
     "text": [
      "3\n",
      "5\n"
     ]
    }
   ],
   "source": [
    "queue.print_first()\n",
    "queue.print_last()"
   ]
  },
  {
   "cell_type": "markdown",
   "metadata": {},
   "source": [
    "Список"
   ]
  },
  {
   "cell_type": "code",
   "execution_count": 29,
   "metadata": {},
   "outputs": [
    {
     "name": "stdout",
     "output_type": "stream",
     "text": [
      "19\n",
      "1 2 3 4 5 6 7 8 9 10 11 12 13 14 15 16 17 18 19 "
     ]
    }
   ],
   "source": [
    "array = Array()\n",
    "for i in range(1, 20):\n",
    "    array.add(i)\n",
    "print(array.get_size())\n",
    "array.print_units()"
   ]
  },
  {
   "cell_type": "code",
   "execution_count": 30,
   "metadata": {},
   "outputs": [
    {
     "name": "stdout",
     "output_type": "stream",
     "text": [
      "18\n",
      "1 2 3 4 5 6 7 8 9 10 11 12 13 14 15 16 17 18 "
     ]
    }
   ],
   "source": [
    "array.pop()\n",
    "print(array.get_size())\n",
    "array.print_units()"
   ]
  },
  {
   "cell_type": "code",
   "execution_count": 31,
   "metadata": {},
   "outputs": [
    {
     "name": "stdout",
     "output_type": "stream",
     "text": [
      "1\n",
      "18\n"
     ]
    }
   ],
   "source": [
    "array.print_first()\n",
    "array.print_last()"
   ]
  },
  {
   "cell_type": "code",
   "execution_count": 20,
   "metadata": {},
   "outputs": [
    {
     "name": "stdout",
     "output_type": "stream",
     "text": [
      "5\n"
     ]
    }
   ],
   "source": [
    "array[5]"
   ]
  },
  {
   "cell_type": "code",
   "execution_count": 39,
   "metadata": {},
   "outputs": [
    {
     "name": "stdout",
     "output_type": "stream",
     "text": [
      "18\n",
      "1 2 3 4 5 6 7 8 9 710 11 12 13 14 15 16 17 18 "
     ]
    }
   ],
   "source": [
    "array.add_index(10, 100)\n",
    "print(array.get_size())\n",
    "array.print_units()"
   ]
  },
  {
   "cell_type": "code",
   "execution_count": 22,
   "metadata": {},
   "outputs": [
    {
     "name": "stdout",
     "output_type": "stream",
     "text": [
      "18\n",
      "1 2 3 4 5 6 7 8 9 100 11 12 13 14 15 16 17 18 "
     ]
    }
   ],
   "source": [
    "array.replace_index(10, 100)\n",
    "print(array.get_size())\n",
    "array.print_units()"
   ]
  },
  {
   "cell_type": "code",
   "execution_count": 23,
   "metadata": {},
   "outputs": [
    {
     "name": "stdout",
     "output_type": "stream",
     "text": [
      "1 2 3 4 5 6 7 8 9 100 11 12 13 14 15 16 17 18 "
     ]
    }
   ],
   "source": [
    "array.print_units()"
   ]
  },
  {
   "cell_type": "code",
   "execution_count": 24,
   "metadata": {},
   "outputs": [
    {
     "name": "stdout",
     "output_type": "stream",
     "text": [
      "61\n",
      "56\n",
      "2 * 29: 28\n",
      "2 * 30: 32\n",
      "61\n"
     ]
    }
   ],
   "source": [
    "print(sys.getsizeof('sdfdsfgfsgfg'))\n",
    "class Test:\n",
    "    def __init__(self):\n",
    "        self.a = None\n",
    "        self.b = None\n",
    "\n",
    "test = Test()\n",
    "print(sys.getsizeof(test))\n",
    "test.a = 2 ** 29\n",
    "print(f'2 * 29: {sys.getsizeof(test.a)}')\n",
    "test.a = 2 ** 30\n",
    "print(f'2 * 30: {sys.getsizeof(test.a)}')\n",
    "test.b = 'sdfdsfgfsgfg'\n",
    "print(sys.getsizeof(test.b))"
   ]
  }
 ],
 "metadata": {
  "kernelspec": {
   "display_name": "Python 3",
   "language": "python",
   "name": "python3"
  },
  "language_info": {
   "codemirror_mode": {
    "name": "ipython",
    "version": 3
   },
   "file_extension": ".py",
   "mimetype": "text/x-python",
   "name": "python",
   "nbconvert_exporter": "python",
   "pygments_lexer": "ipython3",
   "version": "3.11.5"
  }
 },
 "nbformat": 4,
 "nbformat_minor": 2
}
